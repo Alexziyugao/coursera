{
 "cells": [
  {
   "cell_type": "code",
   "execution_count": 2,
   "metadata": {},
   "outputs": [
    {
     "name": "stdout",
     "output_type": "stream",
     "text": [
      "0\n",
      "1\n",
      "2\n",
      "3\n",
      "4\n",
      "5\n",
      "6\n",
      "7\n",
      "8\n",
      "9\n"
     ]
    }
   ],
   "source": [
    "class stackQueue:\n",
    "    def __init__(self):\n",
    "        self.stack1 = []\n",
    "        self.stack2 = []\n",
    "        self.current = 0\n",
    "    \n",
    "    def isEmpty(self):\n",
    "        return self.current == 0\n",
    "        \n",
    "    def enqueue(self,val):\n",
    "        self.stack1.append(val)\n",
    "        self.current += 1\n",
    "    \n",
    "    def dequeue(self):\n",
    "        if len(self.stack2) == 0:\n",
    "            while len(self.stack1) > 0:\n",
    "                self.stack2.append(self.stack1[-1])\n",
    "                self.stack1.pop()\n",
    "        \n",
    "        val = self.stack2[-1]\n",
    "        self.stack2.pop()\n",
    "        self.current -= 1\n",
    "        return val\n",
    "\n",
    "sq = stackQueue()\n",
    "nums = [i for i in range(10)]\n",
    "for x in nums:\n",
    "    sq.enqueue(x)\n",
    "while sq.isEmpty() is not True:\n",
    "    print(sq.dequeue())\n",
    "        \n",
    "    "
   ]
  },
  {
   "cell_type": "code",
   "execution_count": 3,
   "metadata": {},
   "outputs": [],
   "source": [
    "class maxStack:\n",
    "    def __init__(self):\n",
    "        self.element = []\n",
    "        self.maxElem = []\n",
    "    \n",
    "    def push(self,val):\n",
    "        self.element.append(val)\n",
    "        if len(self.element) == 0:\n",
    "            self.maxElem.append(val)\n",
    "        else:\n",
    "            if val > self.element[-1]:\n",
    "                self.maxElem.append(val)\n",
    "            else:\n",
    "                self.maxElem.append(self.element[-1])\n",
    "    \n",
    "    def pop(self):\n",
    "        res = self.element[-1]\n",
    "        self.element.pop()\n",
    "        self.maxElem.pop()\n",
    "    \n",
    "    def peek():\n",
    "        return self.element[-1]\n",
    "    \n",
    "    def maxE(self):\n",
    "        return self.maxElem[-1]\n"
   ]
  },
  {
   "cell_type": "code",
   "execution_count": null,
   "metadata": {},
   "outputs": [],
   "source": []
  }
 ],
 "metadata": {
  "kernelspec": {
   "display_name": "Python 3",
   "language": "python",
   "name": "python3"
  },
  "language_info": {
   "codemirror_mode": {
    "name": "ipython",
    "version": 3
   },
   "file_extension": ".py",
   "mimetype": "text/x-python",
   "name": "python",
   "nbconvert_exporter": "python",
   "pygments_lexer": "ipython3",
   "version": "3.7.0"
  }
 },
 "nbformat": 4,
 "nbformat_minor": 4
}
