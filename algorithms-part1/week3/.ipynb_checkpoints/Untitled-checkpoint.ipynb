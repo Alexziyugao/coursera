{
 "cells": [
  {
   "cell_type": "code",
   "execution_count": null,
   "metadata": {},
   "outputs": [],
   "source": [
    "nums = [1,3,5,7,9,2,4,6,8,10]\n",
    "def merge(nums,l,m,r):\n",
    "    if l == r:\n",
    "        return 0\n",
    "    \n",
    "    tmp = []\n",
    "    count = 0\n",
    "    left = l\n",
    "    right = m + 1\n",
    "    while left <= m and right <= r:\n",
    "        if nums[left] < nums[right]:\n",
    "            tmp.append(nums[left])\n",
    "            left += 1\n",
    "            count += right-m-1\n",
    "        else:\n",
    "            tmp.append(nums[right])\n",
    "            right += 1\n",
    "    \n",
    "    while right <= r:\n",
    "        tmp.append(nums[right])\n",
    "        right += 1\n",
    "    \n",
    "    while left <= m:\n",
    "        tmp.append(nums[left])\n",
    "        left += 1\n",
    "    \n",
    "    for i in range(len(tmp)):\n",
    "        nums[l+i] = tmp[i]\n",
    "    \n",
    "    return count\n",
    "        \n",
    "            \n",
    "def inversions(nums):\n",
    "    "
   ]
  }
 ],
 "metadata": {
  "kernelspec": {
   "display_name": "Python 3",
   "language": "python",
   "name": "python3"
  },
  "language_info": {
   "codemirror_mode": {
    "name": "ipython",
    "version": 3
   },
   "file_extension": ".py",
   "mimetype": "text/x-python",
   "name": "python",
   "nbconvert_exporter": "python",
   "pygments_lexer": "ipython3",
   "version": "3.7.0"
  }
 },
 "nbformat": 4,
 "nbformat_minor": 4
}
