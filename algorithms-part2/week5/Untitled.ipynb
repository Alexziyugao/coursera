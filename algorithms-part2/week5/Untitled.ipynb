{
 "cells": [
  {
   "cell_type": "code",
   "execution_count": null,
   "metadata": {},
   "outputs": [],
   "source": [
    "class NFA:\n",
    "    def __init__(self):\n",
    "        self.regexpr = \"\"\n",
    "        self.end = 0\n",
    "        self.graph = []\n",
    "    \n",
    "    def build(self,regexpr):\n",
    "        self.regexpr = regexpr\n",
    "        self.end = len(regexpr)\n",
    "        ops = []\n",
    "        \n",
    "        for i in range(len(regexpr)):\n",
    "            if regexpr[i] == '(' or regexpr[i] == ')' or regexpr[i] == '*':\n",
    "                self.grap\n",
    "        \n",
    "        return True\n",
    "    \n",
    "    def addEdge(self,)\n",
    "    \n",
    "    def dfs(self,curr,marked):\n",
    "        return True\n",
    "    \n",
    "    def match(self,target):\n",
    "        return True"
   ]
  }
 ],
 "metadata": {
  "kernelspec": {
   "display_name": "Python 3",
   "language": "python",
   "name": "python3"
  },
  "language_info": {
   "codemirror_mode": {
    "name": "ipython",
    "version": 3
   },
   "file_extension": ".py",
   "mimetype": "text/x-python",
   "name": "python",
   "nbconvert_exporter": "python",
   "pygments_lexer": "ipython3",
   "version": "3.7.0"
  }
 },
 "nbformat": 4,
 "nbformat_minor": 4
}
